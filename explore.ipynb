{
 "cells": [
  {
   "cell_type": "code",
   "execution_count": 1,
   "metadata": {},
   "outputs": [
    {
     "name": "stderr",
     "output_type": "stream",
     "text": [
      "/anaconda/envs/hw1/envs/prj/lib/python3.9/site-packages/tqdm/auto.py:22: TqdmWarning: IProgress not found. Please update jupyter and ipywidgets. See https://ipywidgets.readthedocs.io/en/stable/user_install.html\n",
      "  from .autonotebook import tqdm as notebook_tqdm\n"
     ]
    }
   ],
   "source": [
    "from glob import glob\n",
    "import os\n",
    "import pandas as pd\n",
    "import numpy as np\n",
    "import matplotlib.pyplot as plt\n",
    "from torch.utils.data import Dataset, DataLoader\n",
    "from torchvision.models.video import r3d_18\n",
    "import torchvision.transforms as T\n",
    "from PIL import Image\n",
    "import pytorch_lightning as pl\n",
    "from tqdm import tqdm\n",
    "import multiprocessing\n",
    "import pickle\n",
    "import torch\n",
    "from dataset import ApasDataset\n",
    "from model import Model\n"
   ]
  },
  {
   "cell_type": "code",
   "execution_count": 2,
   "metadata": {},
   "outputs": [
    {
     "data": {
      "text/plain": [
       "{\"fold0_['top']_S3D_not_pretrained\": [{'test_acc': 0.6191292405128479}],\n",
       " \"fold0_['top', 'side', 'kinematics']_S3D_not_pretrained\": [{'test_acc': 0.6467451453208923}],\n",
       " \"fold0_['kinematics']_S3D\": [{'test_acc': 0.5991696119308472}],\n",
       " \"fold0_['side']_S3D_not_pretrained\": [{'test_acc': 0.6657905578613281}],\n",
       " \"fold0_['side', 'top', 'kinematics']_S3D_early_fuse\": [{'test_acc': 0.6133775115013123}]}"
      ]
     },
     "execution_count": 2,
     "metadata": {},
     "output_type": "execute_result"
    }
   ],
   "source": [
    "import pickle\n",
    "\n",
    "res_dict = pickle.load(open(\"/home/student/project/models/res_dict.pkl\", \"rb\"))\n",
    "res_dict"
   ]
  },
  {
   "cell_type": "code",
   "execution_count": null,
   "metadata": {},
   "outputs": [],
   "source": [
    "ds = ApasDataset(0, \"test\", [\"kinematics\"])"
   ]
  },
  {
   "cell_type": "code",
   "execution_count": null,
   "metadata": {},
   "outputs": [],
   "source": [
    "sample = ds[18]"
   ]
  },
  {
   "cell_type": "code",
   "execution_count": null,
   "metadata": {},
   "outputs": [],
   "source": [
    "ds.data[\"P016_balloon1\"][\"kinematics\"].shape\n"
   ]
  },
  {
   "cell_type": "code",
   "execution_count": null,
   "metadata": {},
   "outputs": [],
   "source": [
    "ds.data[\"P016_balloon1\"][\"kinematics\"].shape"
   ]
  },
  {
   "cell_type": "code",
   "execution_count": null,
   "metadata": {},
   "outputs": [],
   "source": [
    "sample[\"kinematics\"].shape"
   ]
  },
  {
   "cell_type": "code",
   "execution_count": null,
   "metadata": {},
   "outputs": [],
   "source": [
    "np.moveaxis(ds[0][\"side\"][8],0, -1 ).shape"
   ]
  },
  {
   "cell_type": "code",
   "execution_count": null,
   "metadata": {},
   "outputs": [],
   "source": [
    "plt.imshow(np.moveaxis(ds[500][\"side\"][0],0, -1 ))"
   ]
  },
  {
   "cell_type": "code",
   "execution_count": null,
   "metadata": {},
   "outputs": [],
   "source": [
    "frames = pickle.load(open(\"/home/student/project/data/P016_balloon1_top.pkl\", \"rb\"))\n",
    "frames = ds[2400][\"side\"]\n",
    "frames.shape"
   ]
  },
  {
   "cell_type": "code",
   "execution_count": null,
   "metadata": {},
   "outputs": [],
   "source": [
    "image = Image.fromarray(np.moveaxis(frames[0], 0, -1))\n",
    "plt.imshow(image)\n",
    "image"
   ]
  },
  {
   "cell_type": "code",
   "execution_count": null,
   "metadata": {},
   "outputs": [],
   "source": [
    "# len(glob(\"/home/student/project/data/*\"))\n",
    "len(glob(\"/datashare/APAS/frames/P024_tissue2_side/*\"))"
   ]
  },
  {
   "cell_type": "code",
   "execution_count": null,
   "metadata": {},
   "outputs": [],
   "source": [
    "vid_name\n",
    "frames = pickle.load(open(f\"/home/student/project/data/{vid_name}_top.pkl\", \"rb\"))\n",
    "frames.shape"
   ]
  },
  {
   "cell_type": "code",
   "execution_count": null,
   "metadata": {},
   "outputs": [],
   "source": [
    "round(1.6)"
   ]
  },
  {
   "cell_type": "code",
   "execution_count": null,
   "metadata": {},
   "outputs": [],
   "source": [
    "ds = VideoDataset(False, False,False)"
   ]
  },
  {
   "cell_type": "code",
   "execution_count": null,
   "metadata": {},
   "outputs": [],
   "source": [
    "problem = []\n",
    "for f in glob(\"/home/student/project/data/*.pkl\"):\n",
    "    try:\n",
    "        aa = pickle.load(open(f, \"rb\"))\n",
    "        print(f.split(\"/\")[-1])\n",
    "        print(aa.shape)\n",
    "    except:\n",
    "        problem.append(f) "
   ]
  },
  {
   "cell_type": "code",
   "execution_count": null,
   "metadata": {},
   "outputs": [],
   "source": [
    "problem"
   ]
  },
  {
   "cell_type": "code",
   "execution_count": null,
   "metadata": {},
   "outputs": [],
   "source": [
    "img = Image.fromarray(np.moveaxis(aa[200], 0, -1))\n",
    "img"
   ]
  },
  {
   "cell_type": "code",
   "execution_count": null,
   "metadata": {},
   "outputs": [],
   "source": [
    "videos_path = \"/datashare/APAS/frames\"\n",
    "vid_paths = glob(os.path.join(videos_path, \"*\"))\n",
    "len(vid_paths)"
   ]
  },
  {
   "cell_type": "code",
   "execution_count": null,
   "metadata": {},
   "outputs": [],
   "source": [
    "len(glob(\"/home/student/project/data/*\"))"
   ]
  },
  {
   "cell_type": "code",
   "execution_count": null,
   "metadata": {},
   "outputs": [],
   "source": [
    "a = set([v.split(\"/\")[-1].split(\".\")[0] for v in glob(\"/home/student/project/data/*\")])\n",
    "b = set([v.split(\"/\")[-1].split(\".\")[0] for v in vid_paths])"
   ]
  },
  {
   "cell_type": "code",
   "execution_count": null,
   "metadata": {},
   "outputs": [],
   "source": [
    "len(b)"
   ]
  },
  {
   "cell_type": "code",
   "execution_count": null,
   "metadata": {},
   "outputs": [],
   "source": [
    "b - a"
   ]
  },
  {
   "cell_type": "code",
   "execution_count": null,
   "metadata": {},
   "outputs": [],
   "source": [
    "to_load = \"/home/student/project/data/P027_balloon1_top.pkl\"\n",
    "with h5py.File(to_load, \"r\") as f:\n",
    "    print(f[\"data\"].shape)"
   ]
  },
  {
   "cell_type": "code",
   "execution_count": null,
   "metadata": {},
   "outputs": [],
   "source": [
    "to_load = \"/home/student/project/data/P040_tissue2_top.pkl\"\n",
    "a = pickle.load(open(to_load, \"rb\"))\n",
    "print(a.shape)"
   ]
  },
  {
   "cell_type": "code",
   "execution_count": null,
   "metadata": {},
   "outputs": [],
   "source": []
  }
 ],
 "metadata": {
  "kernelspec": {
   "display_name": "Python 3",
   "language": "python",
   "name": "python3"
  },
  "language_info": {
   "codemirror_mode": {
    "name": "ipython",
    "version": 3
   },
   "file_extension": ".py",
   "mimetype": "text/x-python",
   "name": "python",
   "nbconvert_exporter": "python",
   "pygments_lexer": "ipython3",
   "version": "3.9.16"
  },
  "orig_nbformat": 4,
  "vscode": {
   "interpreter": {
    "hash": "0dd3593fc057f5f697baf2c4d5620545f393b544c5822e8332c7cdf5bc500e9b"
   }
  }
 },
 "nbformat": 4,
 "nbformat_minor": 2
}
