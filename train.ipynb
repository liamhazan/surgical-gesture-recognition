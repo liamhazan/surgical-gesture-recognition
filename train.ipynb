{
 "cells": [
  {
   "cell_type": "code",
   "execution_count": 1,
   "metadata": {},
   "outputs": [
    {
     "name": "stderr",
     "output_type": "stream",
     "text": [
      "/anaconda/envs/hw1/envs/prj/lib/python3.9/site-packages/tqdm/auto.py:22: TqdmWarning: IProgress not found. Please update jupyter and ipywidgets. See https://ipywidgets.readthedocs.io/en/stable/user_install.html\n",
      "  from .autonotebook import tqdm as notebook_tqdm\n"
     ]
    }
   ],
   "source": [
    "import pytorch_lightning as pl\n",
    "from torchvision.models.video import r3d_18, MViT, R3D_18_Weights, s3d, S3D_Weights\n",
    "import torch\n",
    "import torch.nn as nn\n",
    "import numpy as np\n",
    "from torch.utils.data import Dataset, DataLoader, Subset\n",
    "import wandb\n",
    "from pytorch_lightning.loggers import WandbLogger\n",
    "import torchvision.transforms as T\n",
    "import yaml\n",
    "from glob import glob\n",
    "import os\n",
    "from dataset import ApasDataset\n",
    "import pytorchvideo.transforms as Tvid\n",
    "from torchmetrics.functional import accuracy, auroc, f1_score\n",
    "from pytorch_lightning.callbacks import ModelCheckpoint\n",
    "from model import Model"
   ]
  },
  {
   "cell_type": "code",
   "execution_count": 2,
   "metadata": {},
   "outputs": [],
   "source": [
    "fold = 0\n",
    "num_workers = 12\n",
    "epochs = 30\n",
    "inputs = [\"side\", \"top\", \"kinematics\"]\n",
    "batch_size = 8\n",
    "\n",
    "\n",
    "mean=[0.43216, 0.394666, 0.37645]\n",
    "std=[0.22803, 0.22145, 0.216989]\n",
    "transform = T.Compose([\n",
    "    T.Normalize(mean=mean, std=std),\n",
    "])"
   ]
  },
  {
   "cell_type": "code",
   "execution_count": 3,
   "metadata": {},
   "outputs": [
    {
     "name": "stdout",
     "output_type": "stream",
     "text": [
      "Kinematics LOADED\n",
      "Videos LOADED\n"
     ]
    },
    {
     "name": "stderr",
     "output_type": "stream",
     "text": [
      "GPU available: True (cuda), used: True\n",
      "TPU available: False, using: 0 TPU cores\n",
      "IPU available: False, using: 0 IPUs\n",
      "HPU available: False, using: 0 HPUs\n"
     ]
    },
    {
     "name": "stdout",
     "output_type": "stream",
     "text": [
      "Labels LOADED\n"
     ]
    }
   ],
   "source": [
    "train_ds = ApasDataset(fold, \"valid\", inputs)\n",
    "\n",
    "train_dl = DataLoader(train_ds, batch_size=batch_size, shuffle=True, num_workers=num_workers)\n",
    "trainer = pl.Trainer(devices=1,\n",
    "                     accelerator=\"gpu\",\n",
    "                     max_epochs=epochs,\n",
    "                     num_sanity_val_steps=0,\n",
    "                     limit_train_batches=0.2,\n",
    "                    #  limit_val_batches=0.1,\n",
    "                    # default_root_dir=save_dir,\n",
    "                    log_every_n_steps=5000//batch_size,\n",
    "                     )"
   ]
  },
  {
   "cell_type": "code",
   "execution_count": 3,
   "metadata": {},
   "outputs": [
    {
     "data": {
      "text/plain": [
       "Model(\n",
       "  (k_backbone): Sequential(\n",
       "    (0): Conv1d(36, 72, kernel_size=(3,), stride=(2,), padding=(1,))\n",
       "    (1): ReLU()\n",
       "    (2): Conv1d(72, 144, kernel_size=(3,), stride=(2,), padding=(1,))\n",
       "    (3): ReLU()\n",
       "    (4): Conv1d(144, 288, kernel_size=(3,), stride=(2,), padding=(1,))\n",
       "    (5): ReLU()\n",
       "    (6): AvgPool1d(kernel_size=(2,), stride=(2,), padding=(0,))\n",
       "    (7): Flatten(start_dim=1, end_dim=-1)\n",
       "  )\n",
       "  (classifier): Sequential(\n",
       "    (0): Dropout(p=0.5, inplace=False)\n",
       "    (1): Linear(in_features=288, out_features=6, bias=True)\n",
       "  )\n",
       "  (loss): CrossEntropyLoss()\n",
       "  (f1): MulticlassF1Score()\n",
       ")"
      ]
     },
     "execution_count": 3,
     "metadata": {},
     "output_type": "execute_result"
    }
   ],
   "source": [
    "model = Model(inputs=[\"kinematics\"],early_fusion=False, transform=transform)\n",
    "model"
   ]
  },
  {
   "cell_type": "code",
   "execution_count": 5,
   "metadata": {},
   "outputs": [
    {
     "ename": "RuntimeError",
     "evalue": "Error(s) in loading state_dict for Model:\n\tMissing key(s) in state_dict: \"i_backbone.features.0.0.0.weight\", \"i_backbone.features.0.0.1.weight\", \"i_backbone.features.0.0.1.bias\", \"i_backbone.features.0.0.1.running_mean\", \"i_backbone.features.0.0.1.running_var\", \"i_backbone.features.0.1.0.weight\", \"i_backbone.features.0.1.1.weight\", \"i_backbone.features.0.1.1.bias\", \"i_backbone.features.0.1.1.running_mean\", \"i_backbone.features.0.1.1.running_var\", \"i_backbone.features.2.0.weight\", \"i_backbone.features.2.1.weight\", \"i_backbone.features.2.1.bias\", \"i_backbone.features.2.1.running_mean\", \"i_backbone.features.2.1.running_var\", \"i_backbone.features.3.0.0.weight\", \"i_backbone.features.3.0.1.weight\", \"i_backbone.features.3.0.1.bias\", \"i_backbone.features.3.0.1.running_mean\", \"i_backbone.features.3.0.1.running_var\", \"i_backbone.features.3.1.0.weight\", \"i_backbone.features.3.1.1.weight\", \"i_backbone.features.3.1.1.bias\", \"i_backbone.features.3.1.1.running_mean\", \"i_backbone.features.3.1.1.running_var\", \"i_backbone.features.5.branch0.0.weight\", \"i_backbone.features.5.branch0.1.weight\", \"i_backbone.features.5.branch0.1.bias\", \"i_backbone.features.5.branch0.1.running_mean\", \"i_backbone.features.5.branch0.1.running_var\", \"i_backbone.features.5.branch1.0.0.weight\", \"i_backbone.features.5.branch1.0.1.weight\", \"i_backbone.features.5.branch1.0.1.bias\", \"i_backbone.features.5.branch1.0.1.running_mean\", \"i_backbone.features.5.branch1.0.1.running_var\", \"i_backbone.features.5.branch1.1.0.0.weight\", \"i_backbone.features.5.branch1.1.0.1.weight\", \"i_backbone.features.5.branch1.1.0.1.bias\", \"i_backbone.features.5.branch1.1.0.1.running_mean\", \"i_backbone.features.5.branch1.1.0.1.running_var\", \"i_backbone.features.5.branch1.1.1.0.weight\", \"i_backbone.features.5.branch1.1.1.1.weight\", \"i_backbone.features.5.branch1.1.1.1.bias\", \"i_backbone.features.5.branch1.1.1.1.running_mean\", \"i_backbone.features.5.branch1.1.1.1.running_var\", \"i_backbone.features.5.branch2.0.0.weight\", \"i_backbone.features.5.branch2.0.1.weight\", \"i_backbone.features.5.branch2.0.1.bias\", \"i_backbone.features.5.branch2.0.1.running_mean\", \"i_backbone.features.5.branch2.0.1.running_var\", \"i_backbone.features.5.branch2.1.0.0.weight\", \"i_backbone.features.5.branch2.1.0.1.weight\", \"i_backbone.features.5.branch2.1.0.1.bias\", \"i_backbone.features.5.branch2.1.0.1.running_mean\", \"i_backbone.features.5.branch2.1.0.1.running_var\", \"i_backbone.features.5.branch2.1.1.0.weight\", \"i_backbone.features.5.branch2.1.1.1.weight\", \"i_backbone.features.5.branch2.1.1.1.bias\", \"i_backbone.features.5.branch2.1.1.1.running_mean\", \"i_backbone.features.5.branch2.1.1.1.running_var\", \"i_backbone.features.5.branch3.1.0.weight\", \"i_backbone.features.5.branch3.1.1.weight\", \"i_backbone.features.5.branch3.1.1.bias\", \"i_backbone.features.5.branch3.1.1.running_mean\", \"i_backbone.features.5.branch3.1.1.running_var\", \"i_backbone.features.6.branch0.0.weight\", \"i_backbone.features.6.branch0.1.weight\", \"i_backbone.features.6.branch0.1.bias\", \"i_backbone.features.6.branch0.1.running_mean\", \"i_backbone.features.6.branch0.1.running_var\", \"i_backbone.features.6.branch1.0.0.weight\", \"i_backbone.features.6.branch1.0.1.weight\", \"i_backbone.features.6.branch1.0.1.bias\", \"i_backbone.features.6.branch1.0.1.running_mean\", \"i_backbone.features.6.branch1.0.1.running_var\", \"i_backbone.features.6.branch1.1.0.0.weight\", \"i_backbone.features.6.branch1.1.0.1.weight\", \"i_backbone.features.6.branch1.1.0.1.bias\", \"i_backbone.features.6.branch1.1.0.1.running_mean\", \"i_backbone.features.6.branch1.1.0.1.running_var\", \"i_backbone.features.6.branch1.1.1.0.weight\", \"i_backbone.features.6.branch1.1.1.1.weight\", \"i_backbone.features.6.branch1.1.1.1.bias\", \"i_backbone.features.6.branch1.1.1.1.running_mean\", \"i_backbone.features.6.branch1.1.1.1.running_var\", \"i_backbone.features.6.branch2.0.0.weight\", \"i_backbone.features.6.branch2.0.1.weight\", \"i_backbone.features.6.branch2.0.1.bias\", \"i_backbone.features.6.branch2.0.1.running_mean\", \"i_backbone.features.6.branch2.0.1.running_var\", \"i_backbone.features.6.branch2.1.0.0.weight\", \"i_backbone.features.6.branch2.1.0.1.weight\", \"i_backbone.features.6.branch2.1.0.1.bias\", \"i_backbone.features.6.branch2.1.0.1.running_mean\", \"i_backbone.features.6.branch2.1.0.1.running_var\", \"i_backbone.features.6.branch2.1.1.0.weight\", \"i_backbone.features.6.branch2.1.1.1.weight\", \"i_backbone.features.6.branch2.1.1.1.bias\", \"i_backbone.features.6.branch2.1.1.1.running_mean\", \"i_backbone.features.6.branch2.1.1.1.running_var\", \"i_backbone.features.6.branch3.1.0.weight\", \"i_backbone.features.6.branch3.1.1.weight\", \"i_backbone.features.6.branch3.1.1.bias\", \"i_backbone.features.6.branch3.1.1.running_mean\", \"i_backbone.features.6.branch3.1.1.running_var\", \"i_backbone.features.8.branch0.0.weight\", \"i_backbone.features.8.branch0.1.weight\", \"i_backbone.features.8.branch0.1.bias\", \"i_backbone.features.8.branch0.1.running_mean\", \"i_backbone.features.8.branch0.1.running_var\", \"i_backbone.features.8.branch1.0.0.weight\", \"i_backbone.features.8.branch1.0.1.weight\", \"i_backbone.features.8.branch1.0.1.bias\", \"i_backbone.features.8.branch1.0.1.running_mean\", \"i_backbone.features.8.branch1.0.1.running_var\", \"i_backbone.features.8.branch1.1.0.0.weight\", \"i_backbone.features.8.branch1.1.0.1.weight\", \"i_backbone.features.8.branch1.1.0.1.bias\", \"i_backbone.features.8.branch1.1.0.1.running_mean\", \"i_backbone.features.8.branch1.1.0.1.running_var\", \"i_backbone.features.8.branch1.1.1.0.weight\", \"i_backbone.features.8.branch1.1.1.1.weight\", \"i_backbone.features.8.branch1.1.1.1.bias\", \"i_backbone.features.8.branch1.1.1.1.running_mean\", \"i_backbone.features.8.branch1.1.1.1.running_var\", \"i_backbone.features.8.branch2.0.0.weight\", \"i_backbone.features.8.branch2.0.1.weight\", \"i_backbone.features.8.branch2.0.1.bias\", \"i_backbone.features.8.branch2.0.1.running_mean\", \"i_backbone.features.8.branch2.0.1.running_var\", \"i_backbone.features.8.branch2.1.0.0.weight\", \"i_backbone.features.8.branch2.1.0.1.weight\", \"i_backbone.features.8.branch2.1.0.1.bias\", \"i_backbone.features.8.branch2.1.0.1.running_mean\", \"i_backbone.features.8.branch2.1.0.1.running_var\", \"i_backbone.features.8.branch2.1.1.0.weight\", \"i_backbone.features.8.branch2.1.1.1.weight\", \"i_backbone.features.8.branch2.1.1.1.bias\", \"i_backbone.features.8.branch2.1.1.1.running_mean\", \"i_backbone.features.8.branch2.1.1.1.running_var\", \"i_backbone.features.8.branch3.1.0.weight\", \"i_backbone.features.8.branch3.1.1.weight\", \"i_backbone.features.8.branch3.1.1.bias\", \"i_backbone.features.8.branch3.1.1.running_mean\", \"i_backbone.features.8.branch3.1.1.running_var\", \"i_backbone.features.9.branch0.0.weight\", \"i_backbone.features.9.branch0.1.weight\", \"i_backbone.features.9.branch0.1.bias\", \"i_backbone.features.9.branch0.1.running_mean\", \"i_backbone.features.9.branch0.1.running_var\", \"i_backbone.features.9.branch1.0.0.weight\", \"i_backbone.features.9.branch1.0.1.weight\", \"i_backbone.features.9.branch1.0.1.bias\", \"i_backbone.features.9.branch1.0.1.running_mean\", \"i_backbone.features.9.branch1.0.1.running_var\", \"i_backbone.features.9.branch1.1.0.0.weight\", \"i_backbone.features.9.branch1.1.0.1.weight\", \"i_backbone.features.9.branch1.1.0.1.bias\", \"i_backbone.features.9.branch1.1.0.1.running_mean\", \"i_backbone.features.9.branch1.1.0.1.running_var\", \"i_backbone.features.9.branch1.1.1.0.weight\", \"i_backbone.features.9.branch1.1.1.1.weight\", \"i_backbone.features.9.branch1.1.1.1.bias\", \"i_backbone.features.9.branch1.1.1.1.running_mean\", \"i_backbone.features.9.branch1.1.1.1.running_var\", \"i_backbone.features.9.branch2.0.0.weight\", \"i_backbone.features.9.branch2.0.1.weight\", \"i_backbone.features.9.branch2.0.1.bias\", \"i_backbone.features.9.branch2.0.1.running_mean\", \"i_backbone.features.9.branch2.0.1.running_var\", \"i_backbone.features.9.branch2.1.0.0.weight\", \"i_backbone.features.9.branch2.1.0.1.weight\", \"i_backbone.features.9.branch2.1.0.1.bias\", \"i_backbone.features.9.branch2.1.0.1.running_mean\", \"i_backbone.features.9.branch2.1.0.1.running_var\", \"i_backbone.features.9.branch2.1.1.0.weight\", \"i_backbone.features.9.branch2.1.1.1.weight\", \"i_backbone.features.9.branch2.1.1.1.bias\", \"i_backbone.features.9.branch2.1.1.1.running_mean\", \"i_backbone.features.9.branch2.1.1.1.running_var\", \"i_backbone.features.9.branch3.1.0.weight\", \"i_backbone.features.9.branch3.1.1.weight\", \"i_backbone.features.9.branch3.1.1.bias\", \"i_backbone.features.9.branch3.1.1.running_mean\", \"i_backbone.features.9.branch3.1.1.running_var\", \"i_backbone.features.10.branch0.0.weight\", \"i_backbone.features.10.branch0.1.weight\", \"i_backbone.features.10.branch0.1.bias\", \"i_backbone.features.10.branch0.1.running_mean\", \"i_backbone.features.10.branch0.1.running_var\", \"i_backbone.features.10.branch1.0.0.weight\", \"i_backbone.features.10.branch1.0.1.weight\", \"i_backbone.features.10.branch1.0.1.bias\", \"i_backbone.features.10.branch1.0.1.running_mean\", \"i_backbone.features.10.branch1.0.1.running_var\", \"i_backbone.features.10.branch1.1.0.0.weight\", \"i_backbone.features.10.branch1.1.0.1.weight\", \"i_backbone.features.10.branch1.1.0.1.bias\", \"i_backbone.features.10.branch1.1.0.1.running_mean\", \"i_backbone.features.10.branch1.1.0.1.running_var\", \"i_backbone.features.10.branch1.1.1.0.weight\", \"i_backbone.features.10.branch1.1.1.1.weight\", \"i_backbone.features.10.branch1.1.1.1.bias\", \"i_backbone.features.10.branch1.1.1.1.running_mean\", \"i_backbone.features.10.branch1.1.1.1.running_var\", \"i_backbone.features.10.branch2.0.0.weight\", \"i_backbone.features.10.branch2.0.1.weight\", \"i_backbone.features.10.branch2.0.1.bias\", \"i_backbone.features.10.branch2.0.1.running_mean\", \"i_backbone.features.10.branch2.0.1.running_var\", \"i_backbone.features.10.branch2.1.0.0.weight\", \"i_backbone.features.10.branch2.1.0.1.weight\", \"i_backbone.features.10.branch2.1.0.1.bias\", \"i_backbone.features.10.branch2.1.0.1.running_mean\", \"i_backbone.features.10.branch2.1.0.1.running_var\", \"i_backbone.features.10.branch2.1.1.0.weight\", \"i_backbone.features.10.branch2.1.1.1.weight\", \"i_backbone.features.10.branch2.1.1.1.bias\", \"i_backbone.features.10.branch2.1.1.1.running_mean\", \"i_backbone.features.10.branch2.1.1.1.running_var\", \"i_backbone.features.10.branch3.1.0.weight\", \"i_backbone.features.10.branch3.1.1.weight\", \"i_backbone.features.10.branch3.1.1.bias\", \"i_backbone.features.10.branch3.1.1.running_mean\", \"i_backbone.features.10.branch3.1.1.running_var\", \"i_backbone.features.11.branch0.0.weight\", \"i_backbone.features.11.branch0.1.weight\", \"i_backbone.features.11.branch0.1.bias\", \"i_backbone.features.11.branch0.1.running_mean\", \"i_backbone.features.11.branch0.1.running_var\", \"i_backbone.features.11.branch1.0.0.weight\", \"i_backbone.features.11.branch1.0.1.weight\", \"i_backbone.features.11.branch1.0.1.bias\", \"i_backbone.features.11.branch1.0.1.running_mean\", \"i_backbone.features.11.branch1.0.1.running_var\", \"i_backbone.features.11.branch1.1.0.0.weight\", \"i_backbone.features.11.branch1.1.0.1.weight\", \"i_backbone.features.11.branch1.1.0.1.bias\", \"i_backbone.features.11.branch1.1.0.1.running_mean\", \"i_backbone.features.11.branch1.1.0.1.running_var\", \"i_backbone.features.11.branch1.1.1.0.weight\", \"i_backbone.features.11.branch1.1.1.1.weight\", \"i_backbone.features.11.branch1.1.1.1.bias\", \"i_backbone.features.11.branch1.1.1.1.running_mean\", \"i_backbone.features.11.branch1.1.1.1.running_var\", \"i_backbone.features.11.branch2.0.0.weight\", \"i_backbone.features.11.branch2.0.1.weight\", \"i_backbone.features.11.branch2.0.1.bias\", \"i_backbone.features.11.branch2.0.1.running_mean\", \"i_backbone.features.11.branch2.0.1.running_var\", \"i_backbone.features.11.branch2.1.0.0.weight\", \"i_backbone.features.11.branch2.1.0.1.weight\", \"i_backbone.features.11.branch2.1.0.1.bias\", \"i_backbone.features.11.branch2.1.0.1.running_mean\", \"i_backbone.features.11.branch2.1.0.1.running_var\", \"i_backbone.features.11.branch2.1.1.0.weight\", \"i_backbone.features.11.branch2.1.1.1.weight\", \"i_backbone.features.11.branch2.1.1.1.bias\", \"i_backbone.features.11.branch2.1.1.1.running_mean\", \"i_backbone.features.11.branch2.1.1.1.running_var\", \"i_backbone.features.11.branch3.1.0.weight\", \"i_backbone.features.11.branch3.1.1.weight\", \"i_backbone.features.11.branch3.1.1.bias\", \"i_backbone.features.11.branch3.1.1.running_mean\", \"i_backbone.features.11.branch3.1.1.running_var\", \"i_backbone.features.12.branch0.0.weight\", \"i_backbone.features.12.branch0.1.weight\", \"i_backbone.features.12.branch0.1.bias\", \"i_backbone.features.12.branch0.1.running_mean\", \"i_backbone.features.12.branch0.1.running_var\", \"i_backbone.features.12.branch1.0.0.weight\", \"i_backbone.features.12.branch1.0.1.weight\", \"i_backbone.features.12.branch1.0.1.bias\", \"i_backbone.features.12.branch1.0.1.running_mean\", \"i_backbone.features.12.branch1.0.1.running_var\", \"i_backbone.features.12.branch1.1.0.0.weight\", \"i_backbone.features.12.branch1.1.0.1.weight\", \"i_backbone.features.12.branch1.1.0.1.bias\", \"i_backbone.features.12.branch1.1.0.1.running_mean\", \"i_backbone.features.12.branch1.1.0.1.running_var\", \"i_backbone.features.12.branch1.1.1.0.weight\", \"i_backbone.features.12.branch1.1.1.1.weight\", \"i_backbone.features.12.branch1.1.1.1.bias\", \"i_backbone.features.12.branch1.1.1.1.running_mean\", \"i_backbone.features.12.branch1.1.1.1.running_var\", \"i_backbone.features.12.branch2.0.0.weight\", \"i_backbone.features.12.branch2.0.1.weight\", \"i_backbone.features.12.branch2.0.1.bias\", \"i_backbone.features.12.branch2.0.1.running_mean\", \"i_backbone.features.12.branch2.0.1.running_var\", \"i_backbone.features.12.branch2.1.0.0.weight\", \"i_backbone.features.12.branch2.1.0.1.weight\", \"i_backbone.features.12.branch2.1.0.1.bias\", \"i_backbone.features.12.branch2.1.0.1.running_mean\", \"i_backbone.features.12.branch2.1.0.1.running_var\", \"i_backbone.features.12.branch2.1.1.0.weight\", \"i_backbone.features.12.branch2.1.1.1.weight\", \"i_backbone.features.12.branch2.1.1.1.bias\", \"i_backbone.features.12.branch2.1.1.1.running_mean\", \"i_backbone.features.12.branch2.1.1.1.running_var\", \"i_backbone.features.12.branch3.1.0.weight\", \"i_backbone.features.12.branch3.1.1.weight\", \"i_backbone.features.12.branch3.1.1.bias\", \"i_backbone.features.12.branch3.1.1.running_mean\", \"i_backbone.features.12.branch3.1.1.running_var\", \"i_backbone.features.14.branch0.0.weight\", \"i_backbone.features.14.branch0.1.weight\", \"i_backbone.features.14.branch0.1.bias\", \"i_backbone.features.14.branch0.1.running_mean\", \"i_backbone.features.14.branch0.1.running_var\", \"i_backbone.features.14.branch1.0.0.weight\", \"i_backbone.features.14.branch1.0.1.weight\", \"i_backbone.features.14.branch1.0.1.bias\", \"i_backbone.features.14.branch1.0.1.running_mean\", \"i_backbone.features.14.branch1.0.1.running_var\", \"i_backbone.features.14.branch1.1.0.0.weight\", \"i_backbone.features.14.branch1.1.0.1.weight\", \"i_backbone.features.14.branch1.1.0.1.bias\", \"i_backbone.features.14.branch1.1.0.1.running_mean\", \"i_backbone.features.14.branch1.1.0.1.running_var\", \"i_backbone.features.14.branch1.1.1.0.weight\", \"i_backbone.features.14.branch1.1.1.1.weight\", \"i_backbone.features.14.branch1.1.1.1.bias\", \"i_backbone.features.14.branch1.1.1.1.running_mean\", \"i_backbone.features.14.branch1.1.1.1.running_var\", \"i_backbone.features.14.branch2.0.0.weight\", \"i_backbone.features.14.branch2.0.1.weight\", \"i_backbone.features.14.branch2.0.1.bias\", \"i_backbone.features.14.branch2.0.1.running_mean\", \"i_backbone.features.14.branch2.0.1.running_var\", \"i_backbone.features.14.branch2.1.0.0.weight\", \"i_backbone.features.14.branch2.1.0.1.weight\", \"i_backbone.features.14.branch2.1.0.1.bias\", \"i_backbone.features.14.branch2.1.0.1.running_mean\", \"i_backbone.features.14.branch2.1.0.1.running_var\", \"i_backbone.features.14.branch2.1.1.0.weight\", \"i_backbone.features.14.branch2.1.1.1.weight\", \"i_backbone.features.14.branch2.1.1.1.bias\", \"i_backbone.features.14.branch2.1.1.1.running_mean\", \"i_backbone.features.14.branch2.1.1.1.running_var\", \"i_backbone.features.14.branch3.1.0.weight\", \"i_backbone.features.14.branch3.1.1.weight\", \"i_backbone.features.14.branch3.1.1.bias\", \"i_backbone.features.14.branch3.1.1.running_mean\", \"i_backbone.features.14.branch3.1.1.running_var\", \"i_backbone.features.15.branch0.0.weight\", \"i_backbone.features.15.branch0.1.weight\", \"i_backbone.features.15.branch0.1.bias\", \"i_backbone.features.15.branch0.1.running_mean\", \"i_backbone.features.15.branch0.1.running_var\", \"i_backbone.features.15.branch1.0.0.weight\", \"i_backbone.features.15.branch1.0.1.weight\", \"i_backbone.features.15.branch1.0.1.bias\", \"i_backbone.features.15.branch1.0.1.running_mean\", \"i_backbone.features.15.branch1.0.1.running_var\", \"i_backbone.features.15.branch1.1.0.0.weight\", \"i_backbone.features.15.branch1.1.0.1.weight\", \"i_backbone.features.15.branch1.1.0.1.bias\", \"i_backbone.features.15.branch1.1.0.1.running_mean\", \"i_backbone.features.15.branch1.1.0.1.running_var\", \"i_backbone.features.15.branch1.1.1.0.weight\", \"i_backbone.features.15.branch1.1.1.1.weight\", \"i_backbone.features.15.branch1.1.1.1.bias\", \"i_backbone.features.15.branch1.1.1.1.running_mean\", \"i_backbone.features.15.branch1.1.1.1.running_var\", \"i_backbone.features.15.branch2.0.0.weight\", \"i_backbone.features.15.branch2.0.1.weight\", \"i_backbone.features.15.branch2.0.1.bias\", \"i_backbone.features.15.branch2.0.1.running_mean\", \"i_backbone.features.15.branch2.0.1.running_var\", \"i_backbone.features.15.branch2.1.0.0.weight\", \"i_backbone.features.15.branch2.1.0.1.weight\", \"i_backbone.features.15.branch2.1.0.1.bias\", \"i_backbone.features.15.branch2.1.0.1.running_mean\", \"i_backbone.features.15.branch2.1.0.1.running_var\", \"i_backbone.features.15.branch2.1.1.0.weight\", \"i_backbone.features.15.branch2.1.1.1.weight\", \"i_backbone.features.15.branch2.1.1.1.bias\", \"i_backbone.features.15.branch2.1.1.1.running_mean\", \"i_backbone.features.15.branch2.1.1.1.running_var\", \"i_backbone.features.15.branch3.1.0.weight\", \"i_backbone.features.15.branch3.1.1.weight\", \"i_backbone.features.15.branch3.1.1.bias\", \"i_backbone.features.15.branch3.1.1.running_mean\", \"i_backbone.features.15.branch3.1.1.running_var\". \n\tUnexpected key(s) in state_dict: \"k_backbone.0.weight\", \"k_backbone.0.bias\", \"k_backbone.2.weight\", \"k_backbone.2.bias\", \"k_backbone.4.weight\", \"k_backbone.4.bias\". \n\tsize mismatch for classifier.1.weight: copying a param with shape torch.Size([6, 288]) from checkpoint, the shape in current model is torch.Size([6, 1024]).",
     "output_type": "error",
     "traceback": [
      "\u001b[0;31m---------------------------------------------------------------------------\u001b[0m",
      "\u001b[0;31mRuntimeError\u001b[0m                              Traceback (most recent call last)",
      "Cell \u001b[0;32mIn[5], line 2\u001b[0m\n\u001b[1;32m      1\u001b[0m ckpt_path \u001b[39m=\u001b[39m \u001b[39m\"\u001b[39m\u001b[39m/home/student/project/not_used/fold0_[\u001b[39m\u001b[39m'\u001b[39m\u001b[39mkinematics\u001b[39m\u001b[39m'\u001b[39m\u001b[39m]_S3D_early_fuse/gesture_recognition/6mttlmpn/checkpoints/epoch=19-step=13460.ckpt\u001b[39m\u001b[39m\"\u001b[39m\n\u001b[0;32m----> 2\u001b[0m model\u001b[39m.\u001b[39;49mload_from_checkpoint(ckpt_path)\n",
      "File \u001b[0;32m/anaconda/envs/hw1/envs/prj/lib/python3.9/site-packages/pytorch_lightning/core/saving.py:139\u001b[0m, in \u001b[0;36mModelIO.load_from_checkpoint\u001b[0;34m(cls, checkpoint_path, map_location, hparams_file, strict, **kwargs)\u001b[0m\n\u001b[1;32m     59\u001b[0m \u001b[39m@classmethod\u001b[39m\n\u001b[1;32m     60\u001b[0m \u001b[39mdef\u001b[39;00m \u001b[39mload_from_checkpoint\u001b[39m(\n\u001b[1;32m     61\u001b[0m     \u001b[39mcls\u001b[39m,\n\u001b[0;32m   (...)\u001b[0m\n\u001b[1;32m     66\u001b[0m     \u001b[39m*\u001b[39m\u001b[39m*\u001b[39mkwargs: Any,\n\u001b[1;32m     67\u001b[0m ) \u001b[39m-\u001b[39m\u001b[39m>\u001b[39m Self:  \u001b[39m# type: ignore[valid-type]\u001b[39;00m\n\u001b[1;32m     68\u001b[0m \u001b[39m    \u001b[39m\u001b[39mr\u001b[39m\u001b[39m\"\"\"\u001b[39;00m\n\u001b[1;32m     69\u001b[0m \u001b[39m    Primary way of loading a model from a checkpoint. When Lightning saves a checkpoint\u001b[39;00m\n\u001b[1;32m     70\u001b[0m \u001b[39m    it stores the arguments passed to ``__init__``  in the checkpoint under ``\"hyper_parameters\"``.\u001b[39;00m\n\u001b[0;32m   (...)\u001b[0m\n\u001b[1;32m    137\u001b[0m \u001b[39m        y_hat = pretrained_model(x)\u001b[39;00m\n\u001b[1;32m    138\u001b[0m \u001b[39m    \"\"\"\u001b[39;00m\n\u001b[0;32m--> 139\u001b[0m     \u001b[39mreturn\u001b[39;00m _load_from_checkpoint(\n\u001b[1;32m    140\u001b[0m         \u001b[39mcls\u001b[39;49m,\n\u001b[1;32m    141\u001b[0m         checkpoint_path,\n\u001b[1;32m    142\u001b[0m         map_location,\n\u001b[1;32m    143\u001b[0m         hparams_file,\n\u001b[1;32m    144\u001b[0m         strict,\n\u001b[1;32m    145\u001b[0m         \u001b[39m*\u001b[39;49m\u001b[39m*\u001b[39;49mkwargs,\n\u001b[1;32m    146\u001b[0m     )\n",
      "File \u001b[0;32m/anaconda/envs/hw1/envs/prj/lib/python3.9/site-packages/pytorch_lightning/core/saving.py:188\u001b[0m, in \u001b[0;36m_load_from_checkpoint\u001b[0;34m(cls, checkpoint_path, map_location, hparams_file, strict, **kwargs)\u001b[0m\n\u001b[1;32m    186\u001b[0m     \u001b[39mreturn\u001b[39;00m _load_state(\u001b[39mcls\u001b[39m, checkpoint, \u001b[39m*\u001b[39m\u001b[39m*\u001b[39mkwargs)\n\u001b[1;32m    187\u001b[0m \u001b[39mif\u001b[39;00m \u001b[39missubclass\u001b[39m(\u001b[39mcls\u001b[39m, pl\u001b[39m.\u001b[39mLightningModule):\n\u001b[0;32m--> 188\u001b[0m     \u001b[39mreturn\u001b[39;00m _load_state(\u001b[39mcls\u001b[39;49m, checkpoint, strict\u001b[39m=\u001b[39;49mstrict, \u001b[39m*\u001b[39;49m\u001b[39m*\u001b[39;49mkwargs)\n\u001b[1;32m    189\u001b[0m \u001b[39mraise\u001b[39;00m \u001b[39mNotImplementedError\u001b[39;00m(\u001b[39mf\u001b[39m\u001b[39m\"\u001b[39m\u001b[39mUnsupported \u001b[39m\u001b[39m{\u001b[39;00m\u001b[39mcls\u001b[39m\u001b[39m}\u001b[39;00m\u001b[39m\"\u001b[39m)\n",
      "File \u001b[0;32m/anaconda/envs/hw1/envs/prj/lib/python3.9/site-packages/pytorch_lightning/core/saving.py:247\u001b[0m, in \u001b[0;36m_load_state\u001b[0;34m(cls, checkpoint, strict, **cls_kwargs_new)\u001b[0m\n\u001b[1;32m    245\u001b[0m \u001b[39m# load the state_dict on the model automatically\u001b[39;00m\n\u001b[1;32m    246\u001b[0m \u001b[39massert\u001b[39;00m strict \u001b[39mis\u001b[39;00m \u001b[39mnot\u001b[39;00m \u001b[39mNone\u001b[39;00m\n\u001b[0;32m--> 247\u001b[0m keys \u001b[39m=\u001b[39m obj\u001b[39m.\u001b[39;49mload_state_dict(checkpoint[\u001b[39m\"\u001b[39;49m\u001b[39mstate_dict\u001b[39;49m\u001b[39m\"\u001b[39;49m], strict\u001b[39m=\u001b[39;49mstrict)\n\u001b[1;32m    249\u001b[0m \u001b[39mif\u001b[39;00m \u001b[39mnot\u001b[39;00m strict:\n\u001b[1;32m    250\u001b[0m     \u001b[39mif\u001b[39;00m keys\u001b[39m.\u001b[39mmissing_keys:\n",
      "File \u001b[0;32m/anaconda/envs/hw1/envs/prj/lib/python3.9/site-packages/torch/nn/modules/module.py:1671\u001b[0m, in \u001b[0;36mModule.load_state_dict\u001b[0;34m(self, state_dict, strict)\u001b[0m\n\u001b[1;32m   1666\u001b[0m         error_msgs\u001b[39m.\u001b[39minsert(\n\u001b[1;32m   1667\u001b[0m             \u001b[39m0\u001b[39m, \u001b[39m'\u001b[39m\u001b[39mMissing key(s) in state_dict: \u001b[39m\u001b[39m{}\u001b[39;00m\u001b[39m. \u001b[39m\u001b[39m'\u001b[39m\u001b[39m.\u001b[39mformat(\n\u001b[1;32m   1668\u001b[0m                 \u001b[39m'\u001b[39m\u001b[39m, \u001b[39m\u001b[39m'\u001b[39m\u001b[39m.\u001b[39mjoin(\u001b[39m'\u001b[39m\u001b[39m\"\u001b[39m\u001b[39m{}\u001b[39;00m\u001b[39m\"\u001b[39m\u001b[39m'\u001b[39m\u001b[39m.\u001b[39mformat(k) \u001b[39mfor\u001b[39;00m k \u001b[39min\u001b[39;00m missing_keys)))\n\u001b[1;32m   1670\u001b[0m \u001b[39mif\u001b[39;00m \u001b[39mlen\u001b[39m(error_msgs) \u001b[39m>\u001b[39m \u001b[39m0\u001b[39m:\n\u001b[0;32m-> 1671\u001b[0m     \u001b[39mraise\u001b[39;00m \u001b[39mRuntimeError\u001b[39;00m(\u001b[39m'\u001b[39m\u001b[39mError(s) in loading state_dict for \u001b[39m\u001b[39m{}\u001b[39;00m\u001b[39m:\u001b[39m\u001b[39m\\n\u001b[39;00m\u001b[39m\\t\u001b[39;00m\u001b[39m{}\u001b[39;00m\u001b[39m'\u001b[39m\u001b[39m.\u001b[39mformat(\n\u001b[1;32m   1672\u001b[0m                        \u001b[39mself\u001b[39m\u001b[39m.\u001b[39m\u001b[39m__class__\u001b[39m\u001b[39m.\u001b[39m\u001b[39m__name__\u001b[39m, \u001b[39m\"\u001b[39m\u001b[39m\\n\u001b[39;00m\u001b[39m\\t\u001b[39;00m\u001b[39m\"\u001b[39m\u001b[39m.\u001b[39mjoin(error_msgs)))\n\u001b[1;32m   1673\u001b[0m \u001b[39mreturn\u001b[39;00m _IncompatibleKeys(missing_keys, unexpected_keys)\n",
      "\u001b[0;31mRuntimeError\u001b[0m: Error(s) in loading state_dict for Model:\n\tMissing key(s) in state_dict: \"i_backbone.features.0.0.0.weight\", \"i_backbone.features.0.0.1.weight\", \"i_backbone.features.0.0.1.bias\", \"i_backbone.features.0.0.1.running_mean\", \"i_backbone.features.0.0.1.running_var\", \"i_backbone.features.0.1.0.weight\", \"i_backbone.features.0.1.1.weight\", \"i_backbone.features.0.1.1.bias\", \"i_backbone.features.0.1.1.running_mean\", \"i_backbone.features.0.1.1.running_var\", \"i_backbone.features.2.0.weight\", \"i_backbone.features.2.1.weight\", \"i_backbone.features.2.1.bias\", \"i_backbone.features.2.1.running_mean\", \"i_backbone.features.2.1.running_var\", \"i_backbone.features.3.0.0.weight\", \"i_backbone.features.3.0.1.weight\", \"i_backbone.features.3.0.1.bias\", \"i_backbone.features.3.0.1.running_mean\", \"i_backbone.features.3.0.1.running_var\", \"i_backbone.features.3.1.0.weight\", \"i_backbone.features.3.1.1.weight\", \"i_backbone.features.3.1.1.bias\", \"i_backbone.features.3.1.1.running_mean\", \"i_backbone.features.3.1.1.running_var\", \"i_backbone.features.5.branch0.0.weight\", \"i_backbone.features.5.branch0.1.weight\", \"i_backbone.features.5.branch0.1.bias\", \"i_backbone.features.5.branch0.1.running_mean\", \"i_backbone.features.5.branch0.1.running_var\", \"i_backbone.features.5.branch1.0.0.weight\", \"i_backbone.features.5.branch1.0.1.weight\", \"i_backbone.features.5.branch1.0.1.bias\", \"i_backbone.features.5.branch1.0.1.running_mean\", \"i_backbone.features.5.branch1.0.1.running_var\", \"i_backbone.features.5.branch1.1.0.0.weight\", \"i_backbone.features.5.branch1.1.0.1.weight\", \"i_backbone.features.5.branch1.1.0.1.bias\", \"i_backbone.features.5.branch1.1.0.1.running_mean\", \"i_backbone.features.5.branch1.1.0.1.running_var\", \"i_backbone.features.5.branch1.1.1.0.weight\", \"i_backbone.features.5.branch1.1.1.1.weight\", \"i_backbone.features.5.branch1.1.1.1.bias\", \"i_backbone.features.5.branch1.1.1.1.running_mean\", \"i_backbone.features.5.branch1.1.1.1.running_var\", \"i_backbone.features.5.branch2.0.0.weight\", \"i_backbone.features.5.branch2.0.1.weight\", \"i_backbone.features.5.branch2.0.1.bias\", \"i_backbone.features.5.branch2.0.1.running_mean\", \"i_backbone.features.5.branch2.0.1.running_var\", \"i_backbone.features.5.branch2.1.0.0.weight\", \"i_backbone.features.5.branch2.1.0.1.weight\", \"i_backbone.features.5.branch2.1.0.1.bias\", \"i_backbone.features.5.branch2.1.0.1.running_mean\", \"i_backbone.features.5.branch2.1.0.1.running_var\", \"i_backbone.features.5.branch2.1.1.0.weight\", \"i_backbone.features.5.branch2.1.1.1.weight\", \"i_backbone.features.5.branch2.1.1.1.bias\", \"i_backbone.features.5.branch2.1.1.1.running_mean\", \"i_backbone.features.5.branch2.1.1.1.running_var\", \"i_backbone.features.5.branch3.1.0.weight\", \"i_backbone.features.5.branch3.1.1.weight\", \"i_backbone.features.5.branch3.1.1.bias\", \"i_backbone.features.5.branch3.1.1.running_mean\", \"i_backbone.features.5.branch3.1.1.running_var\", \"i_backbone.features.6.branch0.0.weight\", \"i_backbone.features.6.branch0.1.weight\", \"i_backbone.features.6.branch0.1.bias\", \"i_backbone.features.6.branch0.1.running_mean\", \"i_backbone.features.6.branch0.1.running_var\", \"i_backbone.features.6.branch1.0.0.weight\", \"i_backbone.features.6.branch1.0.1.weight\", \"i_backbone.features.6.branch1.0.1.bias\", \"i_backbone.features.6.branch1.0.1.running_mean\", \"i_backbone.features.6.branch1.0.1.running_var\", \"i_backbone.features.6.branch1.1.0.0.weight\", \"i_backbone.features.6.branch1.1.0.1.weight\", \"i_backbone.features.6.branch1.1.0.1.bias\", \"i_backbone.features.6.branch1.1.0.1.running_mean\", \"i_backbone.features.6.branch1.1.0.1.running_var\", \"i_backbone.features.6.branch1.1.1.0.weight\", \"i_backbone.features.6.branch1.1.1.1.weight\", \"i_backbone.features.6.branch1.1.1.1.bias\", \"i_backbone.features.6.branch1.1.1.1.running_mean\", \"i_backbone.features.6.branch1.1.1.1.running_var\", \"i_backbone.features.6.branch2.0.0.weight\", \"i_backbone.features.6.branch2.0.1.weight\", \"i_backbone.features.6.branch2.0.1.bias\", \"i_backbone.features.6.branch2.0.1.running_mean\", \"i_backbone.features.6.branch2.0.1.running_var\", \"i_backbone.features.6.branch2.1.0.0.weight\", \"i_backbone.features.6.branch2.1.0.1.weight\", \"i_backbone.features.6.branch2.1.0.1.bias\", \"i_backbone.features.6.branch2.1.0.1.running_mean\", \"i_backbone.features.6.branch2.1.0.1.running_var\", \"i_backbone.features.6.branch2.1.1.0.weight\", \"i_backbone.features.6.branch2.1.1.1.weight\", \"i_backbone.features.6.branch2.1.1.1.bias\", \"i_backbone.features.6.branch2.1.1.1.running_mean\", \"i_backbone.features.6.branch2.1.1.1.running_var\", \"i_backbone.features.6.branch3.1.0.weight\", \"i_backbone.features.6.branch3.1.1.weight\", \"i_backbone.features.6.branch3.1.1.bias\", \"i_backbone.features.6.branch3.1.1.running_mean\", \"i_backbone.features.6.branch3.1.1.running_var\", \"i_backbone.features.8.branch0.0.weight\", \"i_backbone.features.8.branch0.1.weight\", \"i_backbone.features.8.branch0.1.bias\", \"i_backbone.features.8.branch0.1.running_mean\", \"i_backbone.features.8.branch0.1.running_var\", \"i_backbone.features.8.branch1.0.0.weight\", \"i_backbone.features.8.branch1.0.1.weight\", \"i_backbone.features.8.branch1.0.1.bias\", \"i_backbone.features.8.branch1.0.1.running_mean\", \"i_backbone.features.8.branch1.0.1.running_var\", \"i_backbone.features.8.branch1.1.0.0.weight\", \"i_backbone.features.8.branch1.1.0.1.weight\", \"i_backbone.features.8.branch1.1.0.1.bias\", \"i_backbone.features.8.branch1.1.0.1.running_mean\", \"i_backbone.features.8.branch1.1.0.1.running_var\", \"i_backbone.features.8.branch1.1.1.0.weight\", \"i_backbone.features.8.branch1.1.1.1.weight\", \"i_backbone.features.8.branch1.1.1.1.bias\", \"i_backbone.features.8.branch1.1.1.1.running_mean\", \"i_backbone.features.8.branch1.1.1.1.running_var\", \"i_backbone.features.8.branch2.0.0.weight\", \"i_backbone.features.8.branch2.0.1.weight\", \"i_backbone.features.8.branch2.0.1.bias\", \"i_backbone.features.8.branch2.0.1.running_mean\", \"i_backbone.features.8.branch2.0.1.running_var\", \"i_backbone.features.8.branch2.1.0.0.weight\", \"i_backbone.features.8.branch2.1.0.1.weight\", \"i_backbone.features.8.branch2.1.0.1.bias\", \"i_backbone.features.8.branch2.1.0.1.running_mean\", \"i_backbone.features.8.branch2.1.0.1.running_var\", \"i_backbone.features.8.branch2.1.1.0.weight\", \"i_backbone.features.8.branch2.1.1.1.weight\", \"i_backbone.features.8.branch2.1.1.1.bias\", \"i_backbone.features.8.branch2.1.1.1.running_mean\", \"i_backbone.features.8.branch2.1.1.1.running_var\", \"i_backbone.features.8.branch3.1.0.weight\", \"i_backbone.features.8.branch3.1.1.weight\", \"i_backbone.features.8.branch3.1.1.bias\", \"i_backbone.features.8.branch3.1.1.running_mean\", \"i_backbone.features.8.branch3.1.1.running_var\", \"i_backbone.features.9.branch0.0.weight\", \"i_backbone.features.9.branch0.1.weight\", \"i_backbone.features.9.branch0.1.bias\", \"i_backbone.features.9.branch0.1.running_mean\", \"i_backbone.features.9.branch0.1.running_var\", \"i_backbone.features.9.branch1.0.0.weight\", \"i_backbone.features.9.branch1.0.1.weight\", \"i_backbone.features.9.branch1.0.1.bias\", \"i_backbone.features.9.branch1.0.1.running_mean\", \"i_backbone.features.9.branch1.0.1.running_var\", \"i_backbone.features.9.branch1.1.0.0.weight\", \"i_backbone.features.9.branch1.1.0.1.weight\", \"i_backbone.features.9.branch1.1.0.1.bias\", \"i_backbone.features.9.branch1.1.0.1.running_mean\", \"i_backbone.features.9.branch1.1.0.1.running_var\", \"i_backbone.features.9.branch1.1.1.0.weight\", \"i_backbone.features.9.branch1.1.1.1.weight\", \"i_backbone.features.9.branch1.1.1.1.bias\", \"i_backbone.features.9.branch1.1.1.1.running_mean\", \"i_backbone.features.9.branch1.1.1.1.running_var\", \"i_backbone.features.9.branch2.0.0.weight\", \"i_backbone.features.9.branch2.0.1.weight\", \"i_backbone.features.9.branch2.0.1.bias\", \"i_backbone.features.9.branch2.0.1.running_mean\", \"i_backbone.features.9.branch2.0.1.running_var\", \"i_backbone.features.9.branch2.1.0.0.weight\", \"i_backbone.features.9.branch2.1.0.1.weight\", \"i_backbone.features.9.branch2.1.0.1.bias\", \"i_backbone.features.9.branch2.1.0.1.running_mean\", \"i_backbone.features.9.branch2.1.0.1.running_var\", \"i_backbone.features.9.branch2.1.1.0.weight\", \"i_backbone.features.9.branch2.1.1.1.weight\", \"i_backbone.features.9.branch2.1.1.1.bias\", \"i_backbone.features.9.branch2.1.1.1.running_mean\", \"i_backbone.features.9.branch2.1.1.1.running_var\", \"i_backbone.features.9.branch3.1.0.weight\", \"i_backbone.features.9.branch3.1.1.weight\", \"i_backbone.features.9.branch3.1.1.bias\", \"i_backbone.features.9.branch3.1.1.running_mean\", \"i_backbone.features.9.branch3.1.1.running_var\", \"i_backbone.features.10.branch0.0.weight\", \"i_backbone.features.10.branch0.1.weight\", \"i_backbone.features.10.branch0.1.bias\", \"i_backbone.features.10.branch0.1.running_mean\", \"i_backbone.features.10.branch0.1.running_var\", \"i_backbone.features.10.branch1.0.0.weight\", \"i_backbone.features.10.branch1.0.1.weight\", \"i_backbone.features.10.branch1.0.1.bias\", \"i_backbone.features.10.branch1.0.1.running_mean\", \"i_backbone.features.10.branch1.0.1.running_var\", \"i_backbone.features.10.branch1.1.0.0.weight\", \"i_backbone.features.10.branch1.1.0.1.weight\", \"i_backbone.features.10.branch1.1.0.1.bias\", \"i_backbone.features.10.branch1.1.0.1.running_mean\", \"i_backbone.features.10.branch1.1.0.1.running_var\", \"i_backbone.features.10.branch1.1.1.0.weight\", \"i_backbone.features.10.branch1.1.1.1.weight\", \"i_backbone.features.10.branch1.1.1.1.bias\", \"i_backbone.features.10.branch1.1.1.1.running_mean\", \"i_backbone.features.10.branch1.1.1.1.running_var\", \"i_backbone.features.10.branch2.0.0.weight\", \"i_backbone.features.10.branch2.0.1.weight\", \"i_backbone.features.10.branch2.0.1.bias\", \"i_backbone.features.10.branch2.0.1.running_mean\", \"i_backbone.features.10.branch2.0.1.running_var\", \"i_backbone.features.10.branch2.1.0.0.weight\", \"i_backbone.features.10.branch2.1.0.1.weight\", \"i_backbone.features.10.branch2.1.0.1.bias\", \"i_backbone.features.10.branch2.1.0.1.running_mean\", \"i_backbone.features.10.branch2.1.0.1.running_var\", \"i_backbone.features.10.branch2.1.1.0.weight\", \"i_backbone.features.10.branch2.1.1.1.weight\", \"i_backbone.features.10.branch2.1.1.1.bias\", \"i_backbone.features.10.branch2.1.1.1.running_mean\", \"i_backbone.features.10.branch2.1.1.1.running_var\", \"i_backbone.features.10.branch3.1.0.weight\", \"i_backbone.features.10.branch3.1.1.weight\", \"i_backbone.features.10.branch3.1.1.bias\", \"i_backbone.features.10.branch3.1.1.running_mean\", \"i_backbone.features.10.branch3.1.1.running_var\", \"i_backbone.features.11.branch0.0.weight\", \"i_backbone.features.11.branch0.1.weight\", \"i_backbone.features.11.branch0.1.bias\", \"i_backbone.features.11.branch0.1.running_mean\", \"i_backbone.features.11.branch0.1.running_var\", \"i_backbone.features.11.branch1.0.0.weight\", \"i_backbone.features.11.branch1.0.1.weight\", \"i_backbone.features.11.branch1.0.1.bias\", \"i_backbone.features.11.branch1.0.1.running_mean\", \"i_backbone.features.11.branch1.0.1.running_var\", \"i_backbone.features.11.branch1.1.0.0.weight\", \"i_backbone.features.11.branch1.1.0.1.weight\", \"i_backbone.features.11.branch1.1.0.1.bias\", \"i_backbone.features.11.branch1.1.0.1.running_mean\", \"i_backbone.features.11.branch1.1.0.1.running_var\", \"i_backbone.features.11.branch1.1.1.0.weight\", \"i_backbone.features.11.branch1.1.1.1.weight\", \"i_backbone.features.11.branch1.1.1.1.bias\", \"i_backbone.features.11.branch1.1.1.1.running_mean\", \"i_backbone.features.11.branch1.1.1.1.running_var\", \"i_backbone.features.11.branch2.0.0.weight\", \"i_backbone.features.11.branch2.0.1.weight\", \"i_backbone.features.11.branch2.0.1.bias\", \"i_backbone.features.11.branch2.0.1.running_mean\", \"i_backbone.features.11.branch2.0.1.running_var\", \"i_backbone.features.11.branch2.1.0.0.weight\", \"i_backbone.features.11.branch2.1.0.1.weight\", \"i_backbone.features.11.branch2.1.0.1.bias\", \"i_backbone.features.11.branch2.1.0.1.running_mean\", \"i_backbone.features.11.branch2.1.0.1.running_var\", \"i_backbone.features.11.branch2.1.1.0.weight\", \"i_backbone.features.11.branch2.1.1.1.weight\", \"i_backbone.features.11.branch2.1.1.1.bias\", \"i_backbone.features.11.branch2.1.1.1.running_mean\", \"i_backbone.features.11.branch2.1.1.1.running_var\", \"i_backbone.features.11.branch3.1.0.weight\", \"i_backbone.features.11.branch3.1.1.weight\", \"i_backbone.features.11.branch3.1.1.bias\", \"i_backbone.features.11.branch3.1.1.running_mean\", \"i_backbone.features.11.branch3.1.1.running_var\", \"i_backbone.features.12.branch0.0.weight\", \"i_backbone.features.12.branch0.1.weight\", \"i_backbone.features.12.branch0.1.bias\", \"i_backbone.features.12.branch0.1.running_mean\", \"i_backbone.features.12.branch0.1.running_var\", \"i_backbone.features.12.branch1.0.0.weight\", \"i_backbone.features.12.branch1.0.1.weight\", \"i_backbone.features.12.branch1.0.1.bias\", \"i_backbone.features.12.branch1.0.1.running_mean\", \"i_backbone.features.12.branch1.0.1.running_var\", \"i_backbone.features.12.branch1.1.0.0.weight\", \"i_backbone.features.12.branch1.1.0.1.weight\", \"i_backbone.features.12.branch1.1.0.1.bias\", \"i_backbone.features.12.branch1.1.0.1.running_mean\", \"i_backbone.features.12.branch1.1.0.1.running_var\", \"i_backbone.features.12.branch1.1.1.0.weight\", \"i_backbone.features.12.branch1.1.1.1.weight\", \"i_backbone.features.12.branch1.1.1.1.bias\", \"i_backbone.features.12.branch1.1.1.1.running_mean\", \"i_backbone.features.12.branch1.1.1.1.running_var\", \"i_backbone.features.12.branch2.0.0.weight\", \"i_backbone.features.12.branch2.0.1.weight\", \"i_backbone.features.12.branch2.0.1.bias\", \"i_backbone.features.12.branch2.0.1.running_mean\", \"i_backbone.features.12.branch2.0.1.running_var\", \"i_backbone.features.12.branch2.1.0.0.weight\", \"i_backbone.features.12.branch2.1.0.1.weight\", \"i_backbone.features.12.branch2.1.0.1.bias\", \"i_backbone.features.12.branch2.1.0.1.running_mean\", \"i_backbone.features.12.branch2.1.0.1.running_var\", \"i_backbone.features.12.branch2.1.1.0.weight\", \"i_backbone.features.12.branch2.1.1.1.weight\", \"i_backbone.features.12.branch2.1.1.1.bias\", \"i_backbone.features.12.branch2.1.1.1.running_mean\", \"i_backbone.features.12.branch2.1.1.1.running_var\", \"i_backbone.features.12.branch3.1.0.weight\", \"i_backbone.features.12.branch3.1.1.weight\", \"i_backbone.features.12.branch3.1.1.bias\", \"i_backbone.features.12.branch3.1.1.running_mean\", \"i_backbone.features.12.branch3.1.1.running_var\", \"i_backbone.features.14.branch0.0.weight\", \"i_backbone.features.14.branch0.1.weight\", \"i_backbone.features.14.branch0.1.bias\", \"i_backbone.features.14.branch0.1.running_mean\", \"i_backbone.features.14.branch0.1.running_var\", \"i_backbone.features.14.branch1.0.0.weight\", \"i_backbone.features.14.branch1.0.1.weight\", \"i_backbone.features.14.branch1.0.1.bias\", \"i_backbone.features.14.branch1.0.1.running_mean\", \"i_backbone.features.14.branch1.0.1.running_var\", \"i_backbone.features.14.branch1.1.0.0.weight\", \"i_backbone.features.14.branch1.1.0.1.weight\", \"i_backbone.features.14.branch1.1.0.1.bias\", \"i_backbone.features.14.branch1.1.0.1.running_mean\", \"i_backbone.features.14.branch1.1.0.1.running_var\", \"i_backbone.features.14.branch1.1.1.0.weight\", \"i_backbone.features.14.branch1.1.1.1.weight\", \"i_backbone.features.14.branch1.1.1.1.bias\", \"i_backbone.features.14.branch1.1.1.1.running_mean\", \"i_backbone.features.14.branch1.1.1.1.running_var\", \"i_backbone.features.14.branch2.0.0.weight\", \"i_backbone.features.14.branch2.0.1.weight\", \"i_backbone.features.14.branch2.0.1.bias\", \"i_backbone.features.14.branch2.0.1.running_mean\", \"i_backbone.features.14.branch2.0.1.running_var\", \"i_backbone.features.14.branch2.1.0.0.weight\", \"i_backbone.features.14.branch2.1.0.1.weight\", \"i_backbone.features.14.branch2.1.0.1.bias\", \"i_backbone.features.14.branch2.1.0.1.running_mean\", \"i_backbone.features.14.branch2.1.0.1.running_var\", \"i_backbone.features.14.branch2.1.1.0.weight\", \"i_backbone.features.14.branch2.1.1.1.weight\", \"i_backbone.features.14.branch2.1.1.1.bias\", \"i_backbone.features.14.branch2.1.1.1.running_mean\", \"i_backbone.features.14.branch2.1.1.1.running_var\", \"i_backbone.features.14.branch3.1.0.weight\", \"i_backbone.features.14.branch3.1.1.weight\", \"i_backbone.features.14.branch3.1.1.bias\", \"i_backbone.features.14.branch3.1.1.running_mean\", \"i_backbone.features.14.branch3.1.1.running_var\", \"i_backbone.features.15.branch0.0.weight\", \"i_backbone.features.15.branch0.1.weight\", \"i_backbone.features.15.branch0.1.bias\", \"i_backbone.features.15.branch0.1.running_mean\", \"i_backbone.features.15.branch0.1.running_var\", \"i_backbone.features.15.branch1.0.0.weight\", \"i_backbone.features.15.branch1.0.1.weight\", \"i_backbone.features.15.branch1.0.1.bias\", \"i_backbone.features.15.branch1.0.1.running_mean\", \"i_backbone.features.15.branch1.0.1.running_var\", \"i_backbone.features.15.branch1.1.0.0.weight\", \"i_backbone.features.15.branch1.1.0.1.weight\", \"i_backbone.features.15.branch1.1.0.1.bias\", \"i_backbone.features.15.branch1.1.0.1.running_mean\", \"i_backbone.features.15.branch1.1.0.1.running_var\", \"i_backbone.features.15.branch1.1.1.0.weight\", \"i_backbone.features.15.branch1.1.1.1.weight\", \"i_backbone.features.15.branch1.1.1.1.bias\", \"i_backbone.features.15.branch1.1.1.1.running_mean\", \"i_backbone.features.15.branch1.1.1.1.running_var\", \"i_backbone.features.15.branch2.0.0.weight\", \"i_backbone.features.15.branch2.0.1.weight\", \"i_backbone.features.15.branch2.0.1.bias\", \"i_backbone.features.15.branch2.0.1.running_mean\", \"i_backbone.features.15.branch2.0.1.running_var\", \"i_backbone.features.15.branch2.1.0.0.weight\", \"i_backbone.features.15.branch2.1.0.1.weight\", \"i_backbone.features.15.branch2.1.0.1.bias\", \"i_backbone.features.15.branch2.1.0.1.running_mean\", \"i_backbone.features.15.branch2.1.0.1.running_var\", \"i_backbone.features.15.branch2.1.1.0.weight\", \"i_backbone.features.15.branch2.1.1.1.weight\", \"i_backbone.features.15.branch2.1.1.1.bias\", \"i_backbone.features.15.branch2.1.1.1.running_mean\", \"i_backbone.features.15.branch2.1.1.1.running_var\", \"i_backbone.features.15.branch3.1.0.weight\", \"i_backbone.features.15.branch3.1.1.weight\", \"i_backbone.features.15.branch3.1.1.bias\", \"i_backbone.features.15.branch3.1.1.running_mean\", \"i_backbone.features.15.branch3.1.1.running_var\". \n\tUnexpected key(s) in state_dict: \"k_backbone.0.weight\", \"k_backbone.0.bias\", \"k_backbone.2.weight\", \"k_backbone.2.bias\", \"k_backbone.4.weight\", \"k_backbone.4.bias\". \n\tsize mismatch for classifier.1.weight: copying a param with shape torch.Size([6, 288]) from checkpoint, the shape in current model is torch.Size([6, 1024])."
     ]
    }
   ],
   "source": [
    "ckpt_path = \"/home/student/project/not_used/fold0_['kinematics']_S3D_early_fuse/gesture_recognition/6mttlmpn/checkpoints/epoch=19-step=13460.ckpt\"\n",
    "model.load_from_checkpoint(ckpt_path)"
   ]
  },
  {
   "cell_type": "code",
   "execution_count": 5,
   "metadata": {},
   "outputs": [
    {
     "name": "stderr",
     "output_type": "stream",
     "text": [
      "/anaconda/envs/hw1/envs/prj/lib/python3.9/site-packages/pytorch_lightning/trainer/configuration_validator.py:108: PossibleUserWarning: You defined a `validation_step` but have no `val_dataloader`. Skipping val loop.\n",
      "  rank_zero_warn(\n",
      "LOCAL_RANK: 0 - CUDA_VISIBLE_DEVICES: [0]\n",
      "\n",
      "  | Name       | Type             | Params\n",
      "------------------------------------------------\n",
      "0 | k_backbone | Sequential       | 163 K \n",
      "1 | i_backbone | S3D              | 8.7 M \n",
      "2 | classifier | Sequential       | 6.2 K \n",
      "3 | loss       | CrossEntropyLoss | 0     \n",
      "------------------------------------------------\n",
      "8.9 M     Trainable params\n",
      "0         Non-trainable params\n",
      "8.9 M     Total params\n",
      "35.559    Total estimated model params size (MB)\n",
      "/anaconda/envs/hw1/envs/prj/lib/python3.9/site-packages/pytorch_lightning/trainer/trainer.py:1609: PossibleUserWarning: The number of training batches (358) is smaller than the logging interval Trainer(log_every_n_steps=625). Set a lower value for log_every_n_steps if you want to see logs for the training epoch.\n",
      "  rank_zero_warn(\n"
     ]
    },
    {
     "name": "stdout",
     "output_type": "stream",
     "text": [
      "Epoch 0:   0%|          | 0/358 [00:00<?, ?it/s] "
     ]
    },
    {
     "name": "stderr",
     "output_type": "stream",
     "text": [
      "/home/student/project/model.py:66: UserWarning: To copy construct from a tensor, it is recommended to use sourceTensor.clone().detach() or sourceTensor.clone().detach().requires_grad_(True), rather than torch.tensor(sourceTensor).\n",
      "  i_inputs = self.transform(torch.tensor(batch_dict[input], dtype=torch.float32)/255.)\n"
     ]
    },
    {
     "name": "stdout",
     "output_type": "stream",
     "text": [
      "Epoch 0:  13%|█▎        | 45/358 [02:29<17:16,  3.31s/it, loss=1.54, v_num=5]"
     ]
    },
    {
     "name": "stderr",
     "output_type": "stream",
     "text": [
      "/anaconda/envs/hw1/envs/prj/lib/python3.9/site-packages/pytorch_lightning/trainer/call.py:48: UserWarning: Detected KeyboardInterrupt, attempting graceful shutdown...\n",
      "  rank_zero_warn(\"Detected KeyboardInterrupt, attempting graceful shutdown...\")\n"
     ]
    }
   ],
   "source": [
    "trainer.fit(model = model,train_dataloaders= train_dl)\n"
   ]
  },
  {
   "cell_type": "code",
   "execution_count": 61,
   "metadata": {},
   "outputs": [
    {
     "data": {
      "text/plain": [
       "torch.Size([5, 36, 16, 224, 224])"
      ]
     },
     "execution_count": 61,
     "metadata": {},
     "output_type": "execute_result"
    }
   ],
   "source": [
    "backbone = s3d(weights=None)\n",
    "batch1 = torch.randn(5, 3, 16, 224, 224)\n",
    "batch2 = torch.randn(5, 3, 16, 224, 224)\n",
    "batch3 = torch.randn(5, 36, 16)\n",
    "expanded_batch3 = batch3.unsqueeze(3).unsqueeze(4).repeat(1,1,1,224,224)\n",
    "expanded_batch3.shape"
   ]
  },
  {
   "cell_type": "code",
   "execution_count": 42,
   "metadata": {},
   "outputs": [
    {
     "data": {
      "text/plain": [
       "tensor([[-0.1213, -0.1213, -0.1213,  ..., -0.1213, -0.1213, -0.1213],\n",
       "        [-0.1213, -0.1213, -0.1213,  ..., -0.1213, -0.1213, -0.1213],\n",
       "        [-0.1213, -0.1213, -0.1213,  ..., -0.1213, -0.1213, -0.1213],\n",
       "        ...,\n",
       "        [-0.1213, -0.1213, -0.1213,  ..., -0.1213, -0.1213, -0.1213],\n",
       "        [-0.1213, -0.1213, -0.1213,  ..., -0.1213, -0.1213, -0.1213],\n",
       "        [-0.1213, -0.1213, -0.1213,  ..., -0.1213, -0.1213, -0.1213]])"
      ]
     },
     "execution_count": 42,
     "metadata": {},
     "output_type": "execute_result"
    }
   ],
   "source": [
    "expanded_batch3[0][1][1]"
   ]
  },
  {
   "cell_type": "code",
   "execution_count": 70,
   "metadata": {},
   "outputs": [
    {
     "data": {
      "text/plain": [
       "torch.Size([5, 42, 16, 224, 224])"
      ]
     },
     "execution_count": 70,
     "metadata": {},
     "output_type": "execute_result"
    }
   ],
   "source": [
    "# fused = torch.cat([batch1, batch2], dim=1)\n",
    "fused = torch.cat([batch1, batch2, expanded_batch3], dim=1)\n",
    "fused.shape"
   ]
  },
  {
   "cell_type": "code",
   "execution_count": 62,
   "metadata": {},
   "outputs": [
    {
     "data": {
      "text/plain": [
       "TemporalSeparableConv(\n",
       "  (0): Conv3dNormActivation(\n",
       "    (0): Conv3d(3, 64, kernel_size=(1, 7, 7), stride=(1, 2, 2), padding=(0, 3, 3), bias=False)\n",
       "    (1): BatchNorm3d(64, eps=0.001, momentum=0.001, affine=True, track_running_stats=True)\n",
       "    (2): ReLU(inplace=True)\n",
       "  )\n",
       "  (1): Conv3dNormActivation(\n",
       "    (0): Conv3d(64, 64, kernel_size=(7, 1, 1), stride=(2, 1, 1), padding=(3, 0, 0), bias=False)\n",
       "    (1): BatchNorm3d(64, eps=0.001, momentum=0.001, affine=True, track_running_stats=True)\n",
       "    (2): ReLU(inplace=True)\n",
       "  )\n",
       ")"
      ]
     },
     "execution_count": 62,
     "metadata": {},
     "output_type": "execute_result"
    }
   ],
   "source": [
    "backbone.features[0]"
   ]
  },
  {
   "cell_type": "code",
   "execution_count": 63,
   "metadata": {},
   "outputs": [],
   "source": [
    "backbone.features[0][0][0] = nn.Conv3d(42, 128, kernel_size=(3, 7, 7), stride=(1, 2, 2), padding=(1, 3, 3), bias=False)\n",
    "backbone.features[0][0][1] = nn.BatchNorm3d(128, eps=0.001, momentum=0.001, affine=True, track_running_stats=True)\n",
    "backbone.features[0][1][0] = nn.Conv3d(128, 64, kernel_size=(7, 1, 1), stride=(2, 1, 1), padding=(3, 0, 0), bias=False)\n",
    "\n",
    "backbone.classifier = nn.Identity()"
   ]
  },
  {
   "cell_type": "code",
   "execution_count": 64,
   "metadata": {},
   "outputs": [
    {
     "data": {
      "text/plain": [
       "torch.Size([5, 1024])"
      ]
     },
     "execution_count": 64,
     "metadata": {},
     "output_type": "execute_result"
    }
   ],
   "source": [
    "backbone(fused).shape"
   ]
  },
  {
   "cell_type": "code",
   "execution_count": null,
   "metadata": {},
   "outputs": [],
   "source": []
  }
 ],
 "metadata": {
  "kernelspec": {
   "display_name": "Python 3",
   "language": "python",
   "name": "python3"
  },
  "language_info": {
   "codemirror_mode": {
    "name": "ipython",
    "version": 3
   },
   "file_extension": ".py",
   "mimetype": "text/x-python",
   "name": "python",
   "nbconvert_exporter": "python",
   "pygments_lexer": "ipython3",
   "version": "3.9.16"
  },
  "orig_nbformat": 4,
  "vscode": {
   "interpreter": {
    "hash": "0dd3593fc057f5f697baf2c4d5620545f393b544c5822e8332c7cdf5bc500e9b"
   }
  }
 },
 "nbformat": 4,
 "nbformat_minor": 2
}
